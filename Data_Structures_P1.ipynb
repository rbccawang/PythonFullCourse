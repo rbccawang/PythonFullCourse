{
 "cells": [
  {
   "cell_type": "markdown",
   "id": "d55e6552",
   "metadata": {},
   "source": [
    "# Static Array: fixed length of n elements, indexable"
   ]
  },
  {
   "cell_type": "code",
   "execution_count": 2,
   "id": "a439b9df",
   "metadata": {},
   "outputs": [
    {
     "name": "stdout",
     "output_type": "stream",
     "text": [
      "10\n",
      "[2, 3, 4, 5, 6, 7, 8, 9, 10]\n",
      "[1]\n"
     ]
    }
   ],
   "source": [
    "a1 = [1,2,3,4,5,6,7,8,9,10]\n",
    "print(a1[-1])\n",
    "print(a1[1:])\n",
    "print(a1[:1])"
   ]
  },
  {
   "cell_type": "markdown",
   "id": "b6ae3c5e",
   "metadata": {},
   "source": [
    "# Dynamic Array: can grow/shrink in size"
   ]
  },
  {
   "cell_type": "code",
   "execution_count": 4,
   "id": "ad8921b3",
   "metadata": {},
   "outputs": [
    {
     "name": "stdout",
     "output_type": "stream",
     "text": [
      "[1, 2]\n",
      "[1, 2, 3]\n",
      "[2, 3]\n",
      "[2]\n"
     ]
    }
   ],
   "source": [
    "a2 = [1,2]\n",
    "print(a2)\n",
    "a2.append(3)\n",
    "print(a2)\n",
    "a2.remove(1)\n",
    "print(a2)\n",
    "a2.pop()\n",
    "print(a2)"
   ]
  },
  {
   "cell_type": "markdown",
   "id": "44d58f10",
   "metadata": {},
   "source": [
    "# Stacks (LIFO) and Queue (FIFO)"
   ]
  },
  {
   "cell_type": "code",
   "execution_count": 7,
   "id": "61e1c955",
   "metadata": {},
   "outputs": [
    {
     "name": "stdout",
     "output_type": "stream",
     "text": [
      "Initial Stack:  ['a', 'b', 'c']\n",
      "c\n",
      "b\n",
      "a\n",
      "[]\n"
     ]
    }
   ],
   "source": [
    "stack = []\n",
    "stack.append('a') # FIFO - first in, last out\n",
    "stack.append('b')\n",
    "stack.append('c')\n",
    "print(\"Initial Stack: \", stack)\n",
    "\n",
    "print(stack.pop()) # LIFO - last in, first out\n",
    "print(stack.pop())\n",
    "print(stack.pop())\n",
    "\n",
    "print(stack)"
   ]
  },
  {
   "cell_type": "code",
   "execution_count": null,
   "id": "43abdc98",
   "metadata": {},
   "outputs": [],
   "source": []
  }
 ],
 "metadata": {
  "kernelspec": {
   "display_name": "Python 3 (ipykernel)",
   "language": "python",
   "name": "python3"
  },
  "language_info": {
   "codemirror_mode": {
    "name": "ipython",
    "version": 3
   },
   "file_extension": ".py",
   "mimetype": "text/x-python",
   "name": "python",
   "nbconvert_exporter": "python",
   "pygments_lexer": "ipython3",
   "version": "3.8.3"
  }
 },
 "nbformat": 4,
 "nbformat_minor": 5
}
