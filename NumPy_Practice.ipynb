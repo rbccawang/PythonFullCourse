{
 "cells": [
  {
   "cell_type": "code",
   "execution_count": null,
   "id": "ddbbd75c",
   "metadata": {},
   "outputs": [],
   "source": [
    "import numpy as np\n",
    "import sys"
   ]
  },
  {
   "cell_type": "markdown",
   "id": "50affed5",
   "metadata": {},
   "source": [
    "# Basics"
   ]
  },
  {
   "cell_type": "code",
   "execution_count": 17,
   "id": "58596fbe",
   "metadata": {},
   "outputs": [
    {
     "name": "stdout",
     "output_type": "stream",
     "text": [
      "[1 2 3]\n"
     ]
    }
   ],
   "source": [
    "# Create array\n",
    "a = np.array([1,2,3]) # integers\n",
    "print(a)\n",
    "\n",
    "c = np.array([1,2,3], dtype='int16') # less space"
   ]
  },
  {
   "cell_type": "code",
   "execution_count": 10,
   "id": "e8dd3d40",
   "metadata": {},
   "outputs": [
    {
     "name": "stdout",
     "output_type": "stream",
     "text": [
      "[[4. 5. 6.]\n",
      " [7. 8. 9.]]\n"
     ]
    }
   ],
   "source": [
    "# Create 2-dimensional arrays\n",
    "b = np.array([[4.0,5.0,6.0],[7.0,8.0,9.0]]) # floats\n",
    "print(b)"
   ]
  },
  {
   "cell_type": "code",
   "execution_count": 13,
   "id": "7a803d53",
   "metadata": {},
   "outputs": [
    {
     "name": "stdout",
     "output_type": "stream",
     "text": [
      "1\n",
      "2\n"
     ]
    }
   ],
   "source": [
    "# Get dimensions\n",
    "print(a.ndim)\n",
    "print(b.ndim)"
   ]
  },
  {
   "cell_type": "code",
   "execution_count": 15,
   "id": "ee1ca8ff",
   "metadata": {},
   "outputs": [
    {
     "name": "stdout",
     "output_type": "stream",
     "text": [
      "(3,)\n",
      "(2, 3)\n"
     ]
    }
   ],
   "source": [
    "# Get shapes (rows, columns)\n",
    "print(a.shape) \n",
    "print(b.shape)"
   ]
  },
  {
   "cell_type": "code",
   "execution_count": 18,
   "id": "feb51964",
   "metadata": {},
   "outputs": [
    {
     "name": "stdout",
     "output_type": "stream",
     "text": [
      "int64\n",
      "float64\n",
      "int16\n"
     ]
    }
   ],
   "source": [
    "# Get datatype\n",
    "print(a.dtype)\n",
    "print(b.dtype)\n",
    "print(c.dtype)"
   ]
  },
  {
   "cell_type": "markdown",
   "id": "79491dd7",
   "metadata": {},
   "source": [
    "# Accessing and Changing specific elements, rows, columns"
   ]
  },
  {
   "cell_type": "code",
   "execution_count": 36,
   "id": "83dd1faa",
   "metadata": {},
   "outputs": [
    {
     "name": "stdout",
     "output_type": "stream",
     "text": [
      "[[ 1  2  3  4  5]\n",
      " [ 6  7  8  9 10]]\n",
      "1\n",
      "10\n",
      "[ 6  7  8  9 10]\n",
      "[3 8]\n",
      "[2 4]\n",
      "--------------------\n",
      "[[ 1  2  3  4  5]\n",
      " [ 6  7  8  9 10]]\n",
      "--------------------\n",
      "[[ 1  2  3  4  5]\n",
      " [ 6  7  8  9 20]]\n",
      "--------------------\n",
      "[[ 5  5  5  5  5]\n",
      " [ 6  7  8  9 20]]\n"
     ]
    }
   ],
   "source": [
    "a = np.array([[1,2,3,4,5],[6,7,8,9,10]])\n",
    "print(a)\n",
    "\n",
    "# Index with [row, column]\n",
    "print(a[0,0])\n",
    "print(a[1,-1])\n",
    "\n",
    "# Get a specific row\n",
    "print(a[1, :])\n",
    "\n",
    "# Get a specific column\n",
    "print(a[:,2])\n",
    "\n",
    "# [startIndex:endIndex:stepSize]\n",
    "print(a[0,1:4:2])\n",
    "\n",
    "# Change\n",
    "print(\"--------------------\")\n",
    "print(a)\n",
    "a[1,-1] = 20\n",
    "print(\"--------------------\")\n",
    "print(a)\n",
    "print(\"--------------------\")\n",
    "a[0,:] = 5\n",
    "print(a)"
   ]
  },
  {
   "cell_type": "code",
   "execution_count": 41,
   "id": "20db21d0",
   "metadata": {},
   "outputs": [
    {
     "name": "stdout",
     "output_type": "stream",
     "text": [
      "[[[1 2]\n",
      "  [3 4]]\n",
      "\n",
      " [[5 6]\n",
      "  [7 8]]]\n",
      "4\n",
      "[[3 4]\n",
      " [7 8]]\n"
     ]
    }
   ],
   "source": [
    "b = np.array([[[1,2],[3,4]],[[5,6],[7,8]]])\n",
    "print(b)\n",
    "\n",
    "# Get specific element (work outside in)\n",
    "print(b[0,1,1]) # 1st set, 2nd row, 2nd column\n",
    "print(b[:,1,:])"
   ]
  },
  {
   "cell_type": "markdown",
   "id": "9c8b3627",
   "metadata": {},
   "source": [
    "# Creating matrices "
   ]
  },
  {
   "cell_type": "code",
   "execution_count": 54,
   "id": "8b41c355",
   "metadata": {},
   "outputs": [
    {
     "name": "stdout",
     "output_type": "stream",
     "text": [
      "[0. 0. 0. 0. 0.]\n",
      "-------------\n",
      "[[0. 0. 0.]\n",
      " [0. 0. 0.]]\n",
      "-------------\n",
      "[[[1 1]\n",
      "  [1 1]]\n",
      "\n",
      " [[1 1]\n",
      "  [1 1]]\n",
      "\n",
      " [[1 1]\n",
      "  [1 1]]\n",
      "\n",
      " [[1 1]\n",
      "  [1 1]]]\n",
      "-------------\n",
      "[[10. 10.]\n",
      " [10. 10.]]\n",
      "-------------\n",
      "[[4 4 4 4 4]\n",
      " [4 4 4 4 4]]\n",
      "-------------\n",
      "[[4 4 4 4 4]\n",
      " [4 4 4 4 4]]\n"
     ]
    }
   ],
   "source": [
    "# All 0s matrix\n",
    "print(np.zeros(5)) # 5 zero elements\n",
    "print(\"-------------\")\n",
    "print(np.zeros((2,3))) # 2 rows, 3 columns\n",
    "print(\"-------------\")\n",
    "\n",
    "# All 1s matrix\n",
    "print(np.ones((4,2,2), dtype='int32')) # 4 sets, 2 rows, 2 columns\n",
    "print(\"-------------\")\n",
    "\n",
    "\n",
    "# For other numbers than 0s and 1s:\n",
    "print(np.full((2,2), 10, dtype='float32'))\n",
    "print(\"-------------\")\n",
    "\n",
    "# For other numbers than 0s and 1s:\n",
    "print(np.full(a.shape,4))\n",
    "print(\"-------------\")\n",
    "print(np.full_like(a, 4))"
   ]
  },
  {
   "cell_type": "code",
   "execution_count": 62,
   "id": "d391d9c3",
   "metadata": {},
   "outputs": [
    {
     "name": "stdout",
     "output_type": "stream",
     "text": [
      "[[[0.37863859 0.04112845 0.32327855 0.6477411 ]\n",
      "  [0.30111893 0.48830847 0.36950232 0.28244325]\n",
      "  [0.12763859 0.86335278 0.62535833 0.45248424]]\n",
      "\n",
      " [[0.13408861 0.39424642 0.99120915 0.78030932]\n",
      "  [0.59468111 0.59505991 0.10983454 0.73549702]\n",
      "  [0.42858161 0.86293851 0.01290007 0.6316852 ]]]\n",
      "[[5 5 9]\n",
      " [1 0 5]\n",
      " [5 4 2]]\n",
      "[[4 3 4]\n",
      " [1 2 1]\n",
      " [1 4 1]]\n"
     ]
    }
   ],
   "source": [
    "# Random decimal numbers\n",
    "print(np.random.rand(2,3,4))\n",
    "\n",
    "# Random integer values (min val, max val, size =)\n",
    "print(np.random.randint(10, size = (3,3)))\n",
    "print(np.random.randint(1,5, size = (3,3)))"
   ]
  },
  {
   "cell_type": "markdown",
   "id": "827cd274",
   "metadata": {},
   "source": [
    "# Mathematics"
   ]
  },
  {
   "cell_type": "code",
   "execution_count": 67,
   "id": "99925b56",
   "metadata": {},
   "outputs": [
    {
     "name": "stdout",
     "output_type": "stream",
     "text": [
      "[1 2 3 4 5]\n",
      "[3 4 5 6 7]\n",
      "[-1  0  1  2  3]\n",
      "[ 2  4  6  8 10]\n",
      "[0.5 1.  1.5 2.  2.5]\n"
     ]
    }
   ],
   "source": [
    "a = np.array([1,2,3,4,5])\n",
    "print(a)\n",
    "\n",
    "print(a + 2)\n",
    "print(a - 2)\n",
    "print(a * 2)\n",
    "print(a / 2)"
   ]
  },
  {
   "cell_type": "code",
   "execution_count": 69,
   "id": "11254f7d",
   "metadata": {},
   "outputs": [
    {
     "data": {
      "text/plain": [
       "array([ 7,  9, 11, 13, 15])"
      ]
     },
     "execution_count": 69,
     "metadata": {},
     "output_type": "execute_result"
    }
   ],
   "source": [
    "b = np.array([6,7,8,9,10])\n",
    "a + b"
   ]
  }
 ],
 "metadata": {
  "kernelspec": {
   "display_name": "Python 3 (ipykernel)",
   "language": "python",
   "name": "python3"
  },
  "language_info": {
   "codemirror_mode": {
    "name": "ipython",
    "version": 3
   },
   "file_extension": ".py",
   "mimetype": "text/x-python",
   "name": "python",
   "nbconvert_exporter": "python",
   "pygments_lexer": "ipython3",
   "version": "3.8.3"
  }
 },
 "nbformat": 4,
 "nbformat_minor": 5
}
